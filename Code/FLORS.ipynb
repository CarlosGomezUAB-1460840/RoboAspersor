{
 "cells": [
  {
   "cell_type": "code",
   "execution_count": 1,
   "metadata": {},
   "outputs": [],
   "source": [
    "import numpy as np\n",
    "import cv2\n",
    "import os\n",
    "import matplotlib.pyplot as plt\n",
    "from random import randint\n",
    "from sklearn.model_selection import train_test_split\n",
    "from tensorflow.keras.models import Sequential,load_model\n",
    "from tensorflow.keras.layers import Dense\n",
    "from tensorflow.keras.optimizers import Adam\n",
    "from tensorflow.keras.layers import Flatten,Activation\n",
    "from tensorflow.keras.layers import Conv2D, MaxPooling2D\n",
    "from tensorflow.keras.preprocessing.image import ImageDataGenerator\n",
    "from sklearn.metrics import accuracy_score\n",
    "from skimage.io import imsave"
   ]
  },
  {
   "cell_type": "code",
   "execution_count": 124,
   "metadata": {},
   "outputs": [],
   "source": [
    "# Daisy = 0, Dandelion = 1, Tulip = 2, Rose = 3, Sunflower = 4\n",
    "types = ['Daisy','Dandelion','Tulip','Rose','Sunflower','Muro','Arbol']\n",
    "tp = [0,1,2,3,4,5,6]\n",
    "DAISY_DIR='PHOTOS/Margarita'\n",
    "DANDI_DIR='PHOTOS/DienteLeon'\n",
    "TULIP_DIR='PHOTOS/Tulipanes'\n",
    "ROSE_DIR='PHOTOS/Rosas'\n",
    "SUNFLOWER_DIR='PHOTOS/Girasol'\n",
    "MURO_DIR = 'PHOTOS/Muro'\n",
    "ARBOL_DIR = 'PHOTOS/Arbol'\n",
    "DIRS = [DAISY_DIR,DANDI_DIR,TULIP_DIR,ROSE_DIR,SUNFLOWER_DIR,MURO_DIR,ARBOL_DIR]\n",
    "IMGS = []\n",
    "test = []"
   ]
  },
  {
   "cell_type": "code",
   "execution_count": 125,
   "metadata": {},
   "outputs": [],
   "source": [
    "for i in range(len(types)):\n",
    "    for img in os.listdir(DIRS[i]):\n",
    "        path = os.path.join(DIRS[i],img)\n",
    "        img = cv2.imread(path,cv2.IMREAD_COLOR)\n",
    "        IMGS.append(np.array(img))\n",
    "        test.append(tp[i])"
   ]
  },
  {
   "cell_type": "code",
   "execution_count": 127,
   "metadata": {},
   "outputs": [],
   "source": [
    "X = np.array(IMGS)\n",
    "X = X/255\n",
    "test = np.array(test)\n",
    "x_train,x_test,y_train,y_test=train_test_split(X,test,test_size=0.25)"
   ]
  },
  {
   "cell_type": "code",
   "execution_count": 128,
   "metadata": {},
   "outputs": [],
   "source": [
    "model = Sequential()\n",
    "model.add(Conv2D(filters = 32, kernel_size = (5,5),padding = 'Same',activation ='relu', input_shape = (150,150,3)))\n",
    "model.add(MaxPooling2D(pool_size=(2,2)))\n",
    "model.add(Conv2D(filters = 64, kernel_size = (3,3),padding = 'Same',activation ='relu'))\n",
    "model.add(MaxPooling2D(pool_size=(2,2), strides=(2,2)))\n",
    "model.add(Conv2D(filters =96, kernel_size = (3,3),padding = 'Same',activation ='relu'))\n",
    "model.add(MaxPooling2D(pool_size=(2,2), strides=(2,2)))\n",
    "model.add(Conv2D(filters = 96, kernel_size = (3,3),padding = 'Same',activation ='relu'))\n",
    "model.add(MaxPooling2D(pool_size=(2,2), strides=(2,2)))\n",
    "model.add(Flatten())\n",
    "model.add(Dense(512))\n",
    "model.add(Activation('relu'))\n",
    "model.add(Dense(7, activation = \"softmax\"))"
   ]
  },
  {
   "cell_type": "code",
   "execution_count": 130,
   "metadata": {},
   "outputs": [],
   "source": [
    "datagen = ImageDataGenerator(\n",
    "        featurewise_center=False,\n",
    "        samplewise_center=False,\n",
    "        featurewise_std_normalization=False, \n",
    "        samplewise_std_normalization=False, \n",
    "        zca_whitening=False,\n",
    "        rotation_range=10,\n",
    "        zoom_range = 0.1,\n",
    "        width_shift_range=0.2,\n",
    "        height_shift_range=0.2,\n",
    "        horizontal_flip=True,\n",
    "        vertical_flip=False)\n",
    "\n",
    "datagen.fit(X)"
   ]
  },
  {
   "cell_type": "code",
   "execution_count": 131,
   "metadata": {},
   "outputs": [],
   "source": [
    "model.compile(optimizer=Adam(learning_rate=0.001),loss='sparse_categorical_crossentropy',metrics=['accuracy'])"
   ]
  },
  {
   "cell_type": "code",
   "execution_count": 132,
   "metadata": {},
   "outputs": [
    {
     "name": "stdout",
     "output_type": "stream",
     "text": [
      "Model: \"sequential_2\"\n",
      "_________________________________________________________________\n",
      "Layer (type)                 Output Shape              Param #   \n",
      "=================================================================\n",
      "conv2d_8 (Conv2D)            (None, 150, 150, 32)      2432      \n",
      "_________________________________________________________________\n",
      "max_pooling2d_8 (MaxPooling2 (None, 75, 75, 32)        0         \n",
      "_________________________________________________________________\n",
      "conv2d_9 (Conv2D)            (None, 75, 75, 64)        18496     \n",
      "_________________________________________________________________\n",
      "max_pooling2d_9 (MaxPooling2 (None, 37, 37, 64)        0         \n",
      "_________________________________________________________________\n",
      "conv2d_10 (Conv2D)           (None, 37, 37, 96)        55392     \n",
      "_________________________________________________________________\n",
      "max_pooling2d_10 (MaxPooling (None, 18, 18, 96)        0         \n",
      "_________________________________________________________________\n",
      "conv2d_11 (Conv2D)           (None, 18, 18, 96)        83040     \n",
      "_________________________________________________________________\n",
      "max_pooling2d_11 (MaxPooling (None, 9, 9, 96)          0         \n",
      "_________________________________________________________________\n",
      "flatten_2 (Flatten)          (None, 7776)              0         \n",
      "_________________________________________________________________\n",
      "dense_4 (Dense)              (None, 512)               3981824   \n",
      "_________________________________________________________________\n",
      "activation_2 (Activation)    (None, 512)               0         \n",
      "_________________________________________________________________\n",
      "dense_5 (Dense)              (None, 7)                 3591      \n",
      "=================================================================\n",
      "Total params: 4,144,775\n",
      "Trainable params: 4,144,775\n",
      "Non-trainable params: 0\n",
      "_________________________________________________________________\n"
     ]
    }
   ],
   "source": [
    "model.summary()"
   ]
  },
  {
   "cell_type": "code",
   "execution_count": 133,
   "metadata": {},
   "outputs": [
    {
     "name": "stdout",
     "output_type": "stream",
     "text": [
      "Epoch 1/50\n",
      "37/37 [==============================] - 125s 3s/step - loss: 1.5164 - accuracy: 0.3905 - val_loss: 0.8502 - val_accuracy: 0.6683\n",
      "Epoch 2/50\n",
      "37/37 [==============================] - 77s 2s/step - loss: 0.7902 - accuracy: 0.7078 - val_loss: 0.5106 - val_accuracy: 0.8078\n",
      "Epoch 3/50\n",
      "37/37 [==============================] - 74s 2s/step - loss: 0.4653 - accuracy: 0.8464 - val_loss: 0.3571 - val_accuracy: 0.8606\n",
      "Epoch 4/50\n",
      "37/37 [==============================] - 71s 2s/step - loss: 0.3127 - accuracy: 0.9079 - val_loss: 1.0859 - val_accuracy: 0.7362\n",
      "Epoch 5/50\n",
      "37/37 [==============================] - 72s 2s/step - loss: 0.2628 - accuracy: 0.9132 - val_loss: 0.0912 - val_accuracy: 0.9799\n",
      "Epoch 6/50\n",
      "37/37 [==============================] - 73s 2s/step - loss: 0.1967 - accuracy: 0.9417 - val_loss: 0.0945 - val_accuracy: 0.9786\n",
      "Epoch 7/50\n",
      "37/37 [==============================] - 70s 2s/step - loss: 0.1115 - accuracy: 0.9672 - val_loss: 0.1096 - val_accuracy: 0.9598\n",
      "Epoch 8/50\n",
      "37/37 [==============================] - 68s 2s/step - loss: 0.1294 - accuracy: 0.9643 - val_loss: 0.0302 - val_accuracy: 0.9937\n",
      "Epoch 9/50\n",
      "37/37 [==============================] - 68s 2s/step - loss: 0.1650 - accuracy: 0.9468 - val_loss: 0.1154 - val_accuracy: 0.9497\n",
      "Epoch 10/50\n",
      "37/37 [==============================] - 68s 2s/step - loss: 0.4022 - accuracy: 0.8712 - val_loss: 0.2622 - val_accuracy: 0.9171\n",
      "Epoch 11/50\n",
      "37/37 [==============================] - 69s 2s/step - loss: 0.2507 - accuracy: 0.9236 - val_loss: 0.0714 - val_accuracy: 0.9749\n",
      "Epoch 12/50\n",
      "37/37 [==============================] - 68s 2s/step - loss: 0.1432 - accuracy: 0.9613 - val_loss: 0.0614 - val_accuracy: 0.9812\n",
      "Epoch 13/50\n",
      "37/37 [==============================] - 68s 2s/step - loss: 0.2041 - accuracy: 0.9366 - val_loss: 0.0708 - val_accuracy: 0.9799\n",
      "Epoch 14/50\n",
      "37/37 [==============================] - 64s 2s/step - loss: 0.0922 - accuracy: 0.9702 - val_loss: 0.0329 - val_accuracy: 0.9950\n",
      "Epoch 15/50\n",
      "37/37 [==============================] - 62s 2s/step - loss: 0.0798 - accuracy: 0.9796 - val_loss: 0.0525 - val_accuracy: 0.9862\n",
      "Epoch 16/50\n",
      "37/37 [==============================] - 62s 2s/step - loss: 0.0884 - accuracy: 0.9753 - val_loss: 0.0356 - val_accuracy: 0.9899\n",
      "Epoch 17/50\n",
      "37/37 [==============================] - 64s 2s/step - loss: 0.0773 - accuracy: 0.9766 - val_loss: 0.0399 - val_accuracy: 0.9874\n",
      "Epoch 18/50\n",
      "37/37 [==============================] - 68s 2s/step - loss: 0.0596 - accuracy: 0.9804 - val_loss: 0.0291 - val_accuracy: 0.9937\n",
      "Epoch 19/50\n",
      "37/37 [==============================] - 67s 2s/step - loss: 0.0618 - accuracy: 0.9826 - val_loss: 0.0397 - val_accuracy: 0.9925\n",
      "Epoch 20/50\n",
      "37/37 [==============================] - 69s 2s/step - loss: 0.0562 - accuracy: 0.9830 - val_loss: 0.0280 - val_accuracy: 0.9950\n",
      "Epoch 21/50\n",
      "37/37 [==============================] - 69s 2s/step - loss: 0.0622 - accuracy: 0.9809 - val_loss: 0.0467 - val_accuracy: 0.9912\n",
      "Epoch 22/50\n",
      "37/37 [==============================] - 69s 2s/step - loss: 0.0674 - accuracy: 0.9775 - val_loss: 0.0352 - val_accuracy: 0.9937\n",
      "Epoch 23/50\n",
      "37/37 [==============================] - 70s 2s/step - loss: 0.0774 - accuracy: 0.9775 - val_loss: 0.0804 - val_accuracy: 0.9711\n",
      "Epoch 24/50\n",
      "37/37 [==============================] - 68s 2s/step - loss: 0.0812 - accuracy: 0.9734 - val_loss: 0.0281 - val_accuracy: 0.9962\n",
      "Epoch 25/50\n",
      "37/37 [==============================] - 68s 2s/step - loss: 0.0615 - accuracy: 0.9804 - val_loss: 0.0456 - val_accuracy: 0.9887\n",
      "Epoch 26/50\n",
      "37/37 [==============================] - 68s 2s/step - loss: 0.0399 - accuracy: 0.9881 - val_loss: 0.0235 - val_accuracy: 0.9950\n",
      "Epoch 27/50\n",
      "37/37 [==============================] - 68s 2s/step - loss: 0.1569 - accuracy: 0.9626 - val_loss: 0.0358 - val_accuracy: 0.9899\n",
      "Epoch 28/50\n",
      "37/37 [==============================] - 72s 2s/step - loss: 0.0711 - accuracy: 0.9787 - val_loss: 0.0224 - val_accuracy: 0.9950\n",
      "Epoch 29/50\n",
      "37/37 [==============================] - 68s 2s/step - loss: 0.0643 - accuracy: 0.9830 - val_loss: 0.0649 - val_accuracy: 0.9849\n",
      "Epoch 30/50\n",
      "37/37 [==============================] - 68s 2s/step - loss: 0.0700 - accuracy: 0.9792 - val_loss: 0.0367 - val_accuracy: 0.9862\n",
      "Epoch 31/50\n",
      "37/37 [==============================] - 65s 2s/step - loss: 0.0507 - accuracy: 0.9844 - val_loss: 0.0210 - val_accuracy: 0.9950\n",
      "Epoch 32/50\n",
      "37/37 [==============================] - 70s 2s/step - loss: 0.0519 - accuracy: 0.9834 - val_loss: 0.0157 - val_accuracy: 0.9962\n",
      "Epoch 33/50\n",
      "37/37 [==============================] - 68s 2s/step - loss: 0.0577 - accuracy: 0.9835 - val_loss: 0.0152 - val_accuracy: 0.9962\n",
      "Epoch 34/50\n",
      "37/37 [==============================] - 65s 2s/step - loss: 0.1025 - accuracy: 0.9724 - val_loss: 0.0292 - val_accuracy: 0.9925\n",
      "Epoch 35/50\n",
      "37/37 [==============================] - 69s 2s/step - loss: 0.0773 - accuracy: 0.9766 - val_loss: 0.0172 - val_accuracy: 0.9950\n",
      "Epoch 36/50\n",
      "37/37 [==============================] - 68s 2s/step - loss: 0.0711 - accuracy: 0.9813 - val_loss: 0.0357 - val_accuracy: 0.9874\n",
      "Epoch 37/50\n",
      "37/37 [==============================] - 65s 2s/step - loss: 0.0450 - accuracy: 0.9877 - val_loss: 0.0202 - val_accuracy: 0.9950\n",
      "Epoch 38/50\n",
      "37/37 [==============================] - 71s 2s/step - loss: 0.0506 - accuracy: 0.9835 - val_loss: 0.0183 - val_accuracy: 0.9950\n",
      "Epoch 39/50\n",
      "37/37 [==============================] - 68s 2s/step - loss: 0.0461 - accuracy: 0.9864 - val_loss: 0.0219 - val_accuracy: 0.9962\n",
      "Epoch 40/50\n",
      "37/37 [==============================] - 68s 2s/step - loss: 0.0367 - accuracy: 0.9894 - val_loss: 0.0155 - val_accuracy: 0.9975\n",
      "Epoch 41/50\n",
      "37/37 [==============================] - 68s 2s/step - loss: 0.0460 - accuracy: 0.9847 - val_loss: 0.0123 - val_accuracy: 0.9962\n",
      "Epoch 42/50\n",
      "37/37 [==============================] - 68s 2s/step - loss: 0.0418 - accuracy: 0.9864 - val_loss: 0.0260 - val_accuracy: 0.9925\n",
      "Epoch 43/50\n",
      "37/37 [==============================] - 68s 2s/step - loss: 0.0544 - accuracy: 0.9860 - val_loss: 0.0140 - val_accuracy: 0.9962\n",
      "Epoch 44/50\n",
      "37/37 [==============================] - 71s 2s/step - loss: 0.0453 - accuracy: 0.9855 - val_loss: 0.0183 - val_accuracy: 0.9950\n",
      "Epoch 45/50\n",
      "37/37 [==============================] - 71s 2s/step - loss: 0.0377 - accuracy: 0.9899 - val_loss: 0.0281 - val_accuracy: 0.9937\n",
      "Epoch 46/50\n",
      "37/37 [==============================] - 69s 2s/step - loss: 0.0362 - accuracy: 0.9855 - val_loss: 0.0169 - val_accuracy: 0.9975\n",
      "Epoch 47/50\n",
      "37/37 [==============================] - 69s 2s/step - loss: 0.0398 - accuracy: 0.9885 - val_loss: 0.0209 - val_accuracy: 0.9950\n",
      "Epoch 48/50\n",
      "37/37 [==============================] - 66s 2s/step - loss: 0.0512 - accuracy: 0.9818 - val_loss: 0.0237 - val_accuracy: 0.9937\n",
      "Epoch 49/50\n",
      "37/37 [==============================] - 70s 2s/step - loss: 0.0460 - accuracy: 0.9851 - val_loss: 0.0200 - val_accuracy: 0.9950\n",
      "Epoch 50/50\n",
      "37/37 [==============================] - 68s 2s/step - loss: 0.0404 - accuracy: 0.9877 - val_loss: 0.0645 - val_accuracy: 0.9862\n"
     ]
    },
    {
     "data": {
      "text/plain": [
       "<tensorflow.python.keras.callbacks.History at 0x146cc835550>"
      ]
     },
     "execution_count": 133,
     "metadata": {},
     "output_type": "execute_result"
    }
   ],
   "source": [
    "batch_size=64\n",
    "epochs=50 #(amb 10-15 epochs es suficient)\n",
    "x_test = np.array(x_test)\n",
    "y_test = np.array(y_test)\n",
    "model.fit(datagen.flow(X,test, batch_size=batch_size),\n",
    "                              epochs = epochs, validation_data = (x_test,y_test),\n",
    "                              verbose = 1, steps_per_epoch=x_train.shape[0] // batch_size)"
   ]
  },
  {
   "cell_type": "code",
   "execution_count": 134,
   "metadata": {},
   "outputs": [],
   "source": [
    "model.save('my_model.h5')\n",
    "pred = model.predict(x_test)\n",
    "accuracy_score(np.argmax(pred,axis=1),y_test)"
   ]
  }
 ],
 "metadata": {
  "kernelspec": {
   "display_name": "Python 3",
   "language": "python",
   "name": "python3"
  },
  "language_info": {
   "codemirror_mode": {
    "name": "ipython",
    "version": 3
   },
   "file_extension": ".py",
   "mimetype": "text/x-python",
   "name": "python",
   "nbconvert_exporter": "python",
   "pygments_lexer": "ipython3",
   "version": "3.8.8"
  }
 },
 "nbformat": 4,
 "nbformat_minor": 4
}
